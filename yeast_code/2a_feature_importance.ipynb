{
 "cells": [
  {
   "cell_type": "markdown",
   "metadata": {},
   "source": []
  },
  {
   "cell_type": "code",
   "execution_count": 1,
   "metadata": {},
   "outputs": [],
   "source": [
    "import pandas as pd\n",
    "import matplotlib.pyplot as plt\n",
    "import seaborn as sns\n",
    "\n",
    "imp = pd.read_csv(\"../output/1_xgb_regression_yeast/DMF_imp.csv\", index_col=0)\n",
    "imp[\"mean_imp\"] = imp.mean(axis=1)\n",
    "imp[\"std_imp\"] = imp.std(axis=1)\n",
    "imp = imp.sort_values(\"mean_imp\", ascending=False)\n",
    "\n",
    "# plot mean_imp as a barplot with error bars and sort by mean_imp\n",
    "plt.figure(figsize=(10, 5))\n",
    "sns.barplot(x=imp.index, y=\"mean_imp\", data=imp, yerr=imp[\"std_imp\"])\n",
    "plt.xticks(rotation=90)\n",
    "plt.ylabel(\"Mean Importance\")\n",
    "plt.title(\"Feature Importance\")\n",
    "plt.tight_layout()\n",
    "plt.savefig(\"../output/2_feature_importance_yeast/feature_importance.pdf\")\n",
    "plt.close()"
   ]
  }
 ],
 "metadata": {
  "kernelspec": {
   "display_name": "shap",
   "language": "python",
   "name": "python3"
  },
  "language_info": {
   "codemirror_mode": {
    "name": "ipython",
    "version": 3
   },
   "file_extension": ".py",
   "mimetype": "text/x-python",
   "name": "python",
   "nbconvert_exporter": "python",
   "pygments_lexer": "ipython3",
   "version": "3.11.5"
  }
 },
 "nbformat": 4,
 "nbformat_minor": 2
}
