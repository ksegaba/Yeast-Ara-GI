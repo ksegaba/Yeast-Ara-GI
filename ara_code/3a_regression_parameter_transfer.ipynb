{
 "cells": [
  {
   "cell_type": "markdown",
   "metadata": {},
   "source": [
    "# Transfer of GI knowledge from Yeast to Arabidopsis for the following scenarios:\n",
    "1. Using only the SMF data\n",
    "2. Using all the neutrality functions\n",
    "2. Using only the established neutrality functions (Mani 2008 PNAS)\n",
    "\n",
    "### Goal:\n",
    "The established Arabidopsis models serve as a baseline performance. The idea is to \n",
    "use the Yeast model, which performed really well, to increase the prediction accuracy \n",
    "on the significantly smaller Arabidopsis dataset."
   ]
  },
  {
   "cell_type": "markdown",
   "metadata": {},
   "source": [
    "### Scenario 1. Using only the SMF data"
   ]
  },
  {
   "cell_type": "code",
   "execution_count": 8,
   "metadata": {},
   "outputs": [],
   "source": [
    "import joblib\n",
    "import pandas as pd\n",
    "import xgboost as xgb\n",
    "\n",
    "# Load in the data\n",
    "ara = pd.read_csv('../ara_data/1_feature_tables/20240923_melissa_ara_data_features/W_TSC_emmean_feature_table.tsv', sep='\\t', index_col=0)\n",
    "ara_test = pd.read_csv('../ara_data/1_feature_tables/20240923_melissa_ara_data_features/W_TSC_emmean_test_instances.txt', sep='\\t', header=None)\n",
    "\n",
    "# Load trained yeast xgb model and retrain with Arabidopsis data\n",
    "ara.rename(columns={'MA_new': 'Query_SMF_new', 'MB_new': 'Array_SMF_new'}, inplace=True)\n",
    "ara_train = ara.loc[~ara.index.isin(ara_test[0]), ['W_TSC_emmean', 'Query_SMF_new', 'Array_SMF_new']]\n",
    "ara_y_train = ara_train.loc[:, 'W_TSC_emmean']\n",
    "ara_train.drop(columns='W_TSC_emmean', inplace=True)\n",
    "\n",
    "ara_test = ara.loc[ara.index.isin(ara_test[0]), ['W_TSC_emmean', 'Query_SMF_new', 'Array_SMF_new']]\n",
    "ara_y_test = ara_test.loc[:, 'W_TSC_emmean']\n",
    "ara_test.drop(columns='W_TSC_emmean', inplace=True)\n",
    "\n",
    "yeast_mod = joblib.load('../output/1_xgb_regression_yeast/20241016_results/DMF_from_SMF_only_model_rep_9.pkl')\n",
    "# yeast_mod.fit(ara_train, ara_y_train)\n",
    "\n",
    "# Predict\n",
    "ara_y_test_preds = yeast_mod.predict(ara_test)"
   ]
  },
  {
   "cell_type": "code",
   "execution_count": 9,
   "metadata": {},
   "outputs": [
    {
     "data": {
      "text/plain": [
       "0.5503288575800729"
      ]
     },
     "execution_count": 9,
     "metadata": {},
     "output_type": "execute_result"
    }
   ],
   "source": [
    "from sklearn.metrics import r2_score\n",
    "r2_score(ara_y_test, ara_y_test_preds)"
   ]
  },
  {
   "cell_type": "code",
   "execution_count": 10,
   "metadata": {},
   "outputs": [
    {
     "data": {
      "text/plain": [
       "0.20292576608715895"
      ]
     },
     "execution_count": 10,
     "metadata": {},
     "output_type": "execute_result"
    }
   ],
   "source": [
    "yeast_mod.fit(ara_train, ara_y_train) # If I retrain\n",
    "r2_score(ara_y_test, yeast_mod.predict(ara_test))"
   ]
  }
 ],
 "metadata": {
  "kernelspec": {
   "display_name": "shap",
   "language": "python",
   "name": "python3"
  },
  "language_info": {
   "codemirror_mode": {
    "name": "ipython",
    "version": 3
   },
   "file_extension": ".py",
   "mimetype": "text/x-python",
   "name": "python",
   "nbconvert_exporter": "python",
   "pygments_lexer": "ipython3",
   "version": "3.11.5"
  }
 },
 "nbformat": 4,
 "nbformat_minor": 2
}
